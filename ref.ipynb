{
 "cells": [
  {
   "cell_type": "code",
   "execution_count": 1,
   "metadata": {},
   "outputs": [
    {
     "name": "stderr",
     "output_type": "stream",
     "text": [
      "/home/huey/miniconda3/envs/teeny/lib/python3.8/site-packages/tqdm/auto.py:22: TqdmWarning: IProgress not found. Please update jupyter and ipywidgets. See https://ipywidgets.readthedocs.io/en/stable/user_install.html\n",
      "  from .autonotebook import tqdm as notebook_tqdm\n"
     ]
    }
   ],
   "source": [
    "import matplotlib.pyplot as plt\n",
    "import numpy as np\n",
    "import pytorch_lightning as pl\n",
    "import torch\n",
    "\n",
    "from model.CringeLDM import CringeLDM\n",
    "from PIL import Image\n",
    "\n",
    "from utils import convert_to_rgb, import_image_from_path"
   ]
  },
  {
   "cell_type": "code",
   "execution_count": null,
   "metadata": {},
   "outputs": [],
   "source": [
    "# Load the model\n",
    "modelWrapper = CringeLDM()\n",
    "\n",
    "# Import an image\n",
    "img = import_image_from_path()\n",
    "\n",
    "# Load the image\n",
    "res = modelWrapper.forward(query=\"I am a cat\", x=img, steps=1);\n",
    "\n",
    "# Convert the image to RGB\n",
    "res = convert_to_rgb(res)\n",
    "\n",
    "# Show the image\n",
    "plt.imshow(res)"
   ]
  },
  {
   "cell_type": "code",
   "execution_count": 4,
   "metadata": {},
   "outputs": [
    {
     "name": "stderr",
     "output_type": "stream",
     "text": [
      "Some weights of the model checkpoint at bert-base-uncased were not used when initializing BertModel: ['cls.seq_relationship.weight', 'cls.predictions.transform.LayerNorm.weight', 'cls.predictions.decoder.weight', 'cls.predictions.bias', 'cls.predictions.transform.LayerNorm.bias', 'cls.seq_relationship.bias', 'cls.predictions.transform.dense.bias', 'cls.predictions.transform.dense.weight']\n",
      "- This IS expected if you are initializing BertModel from the checkpoint of a model trained on another task or with another architecture (e.g. initializing a BertForSequenceClassification model from a BertForPreTraining model).\n",
      "- This IS NOT expected if you are initializing BertModel from the checkpoint of a model that you expect to be exactly identical (initializing a BertForSequenceClassification model from a BertForSequenceClassification model).\n"
     ]
    },
    {
     "name": "stdout",
     "output_type": "stream",
     "text": [
      "                                   \r"
     ]
    },
    {
     "name": "stderr",
     "output_type": "stream",
     "text": [
      "Some weights of the model checkpoint at bert-base-uncased were not used when initializing BertModel: ['cls.seq_relationship.weight', 'cls.predictions.transform.LayerNorm.weight', 'cls.predictions.decoder.weight', 'cls.predictions.bias', 'cls.predictions.transform.LayerNorm.bias', 'cls.seq_relationship.bias', 'cls.predictions.transform.dense.bias', 'cls.predictions.transform.dense.weight']\n",
      "- This IS expected if you are initializing BertModel from the checkpoint of a model trained on another task or with another architecture (e.g. initializing a BertForSequenceClassification model from a BertForPreTraining model).\n",
      "- This IS NOT expected if you are initializing BertModel from the checkpoint of a model that you expect to be exactly identical (initializing a BertForSequenceClassification model from a BertForSequenceClassification model).\n"
     ]
    },
    {
     "ename": "ValueError",
     "evalue": "too many values to unpack (expected 2)",
     "output_type": "error",
     "traceback": [
      "\u001b[0;31m---------------------------------------------------------------------------\u001b[0m",
      "\u001b[0;31mValueError\u001b[0m                                Traceback (most recent call last)",
      "Cell \u001b[0;32mIn[4], line 22\u001b[0m\n\u001b[1;32m     20\u001b[0m \u001b[39mfor\u001b[39;00m idx \u001b[39min\u001b[39;00m \u001b[39mrange\u001b[39m(\u001b[39m0\u001b[39m, \u001b[39mlen\u001b[39m(train_loader)):\n\u001b[1;32m     21\u001b[0m     text, image \u001b[39m=\u001b[39m train_loader\u001b[39m.\u001b[39mdataset[idx] \n\u001b[0;32m---> 22\u001b[0m     model\u001b[39m.\u001b[39;49mtraining_step((text, image), idx)\n",
      "File \u001b[0;32m/mnt/e/Source/teeny-latent-diffusion/model/CringeLDM.py:97\u001b[0m, in \u001b[0;36mCringeLDM.training_step\u001b[0;34m(self, train_batch, batch_idx)\u001b[0m\n\u001b[1;32m     95\u001b[0m \u001b[39mdef\u001b[39;00m \u001b[39mtraining_step\u001b[39m(\u001b[39mself\u001b[39m, train_batch, batch_idx):\n\u001b[1;32m     96\u001b[0m     \u001b[39m# Grab batch\u001b[39;00m\n\u001b[0;32m---> 97\u001b[0m     y, q \u001b[39m=\u001b[39m train_batch\n\u001b[1;32m     98\u001b[0m     \u001b[39m# Get q\u001b[39;00m\n\u001b[1;32m     99\u001b[0m     q \u001b[39m=\u001b[39m \u001b[39mself\u001b[39m\u001b[39m.\u001b[39mbertWrapper\u001b[39m.\u001b[39mbert_model(q)\n",
      "\u001b[0;31mValueError\u001b[0m: too many values to unpack (expected 2)"
     ]
    }
   ],
   "source": [
    "from data.unsplashlite import UnsplashLiteDataset\n",
    "import torch.utils.data\n",
    "from torch.utils.data import DataLoader\n",
    "import pytorch_lightning as pl\n",
    "\n",
    "# data\n",
    "dataset = UnsplashLiteDataset(root_dir='/mnt/e/Source/unsplash-lite-corpus-preprocess/db')\n",
    "training_set, validation_set = torch.utils.data.random_split(dataset, [int(len(dataset)*0.8), int(len(dataset)*0.2)])\n",
    "\n",
    "train_loader = DataLoader(training_set, batch_size=32)\n",
    "val_loader = DataLoader(validation_set, batch_size=32)\n",
    "\n",
    "# model\n",
    "model = CringeLDM()\n",
    "\n",
    "# training\n",
    "# trainer = pl.Trainer(accelerator='gpu', precision=16, limit_train_batches=0.5)\n",
    "# trainer.fit(model, train_loader, val_loader)\n",
    "\n",
    "for idx in range(0, len(train_loader)):\n",
    "    text, image = train_loader.dataset[idx] \n",
    "    model.training_step((text, image), idx)"
   ]
  }
 ],
 "metadata": {
  "kernelspec": {
   "display_name": "teeny",
   "language": "python",
   "name": "python3"
  },
  "language_info": {
   "codemirror_mode": {
    "name": "ipython",
    "version": 3
   },
   "file_extension": ".py",
   "mimetype": "text/x-python",
   "name": "python",
   "nbconvert_exporter": "python",
   "pygments_lexer": "ipython3",
   "version": "3.8.15 | packaged by conda-forge | (default, Nov 22 2022, 08:49:35) \n[GCC 10.4.0]"
  },
  "orig_nbformat": 4,
  "vscode": {
   "interpreter": {
    "hash": "ac91e5a7d41f06b71cc19fdddcc5ca14fed1395cef74a8d616c800da807fd870"
   }
  }
 },
 "nbformat": 4,
 "nbformat_minor": 2
}
