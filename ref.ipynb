{
 "cells": [
  {
   "cell_type": "code",
   "execution_count": null,
   "metadata": {},
   "outputs": [],
   "source": [
    "import matplotlib.pyplot as plt\n",
    "import numpy as np\n",
    "import pytorch_lightning as pl\n",
    "import torch\n",
    "\n",
    "from model.CringeLDM import CringeLDM\n",
    "from PIL import Image\n",
    "\n",
    "from utils import convert_to_rgb, import_image_from_path"
   ]
  },
  {
   "cell_type": "code",
   "execution_count": null,
   "metadata": {},
   "outputs": [],
   "source": [
    "from data.unsplashlite import UnsplashLiteDataset\n",
    "import torch.utils.data\n",
    "from torch.utils.data import DataLoader\n",
    "import pytorch_lightning as pl\n",
    "\n",
    "os.environ['CUDA_VISIBLE_DEVICES'] ='0'\n",
    "\n",
    "# data\n",
    "dataset = UnsplashLiteDataset(root_dir='/mnt/e/Source/unsplash-lite-corpus-preprocess/db')\n",
    "training_set, validation_set = torch.utils.data.random_split(dataset, [int(len(dataset)*0.8), int(len(dataset)*0.2)])\n",
    "\n",
    "train_loader = DataLoader(training_set, batch_size=1)\n",
    "val_loader = DataLoader(validation_set, batch_size=1)\n",
    "\n",
    "# model\n",
    "model = CringeLDM().to(\"cuda:0\" if torch.cuda.is_available() else \"cpu\")\n",
    "\n",
    "# training\n",
    "trainer = pl.Trainer(accelerator='gpu', precision=16, limit_train_batches=0.5)\n",
    "trainer.fit(model, train_loader, val_loader)\n"
   ]
  },
  {
   "cell_type": "code",
   "execution_count": null,
   "metadata": {},
   "outputs": [],
   "source": [
    "# Import an image\n",
    "img = import_image_from_path()\n",
    "\n",
    "# Load the image\n",
    "res = model.forward_with_q(query=\"I am a cat\", x=img, steps=1);\n",
    "\n",
    "def convert_to_rgb2(x):\n",
    "    x = x.squeeze(0)\n",
    "    x = x.permute(1, 2, 0)\n",
    "    x = x.detach().to(\"cpu\").numpy()\n",
    "    x = (x - x.min()) / (x.max() - x.min())\n",
    "    x = (x * 255).astype(np.uint8)\n",
    "    return x\n",
    "\n",
    "# Convert the image to RGB\n",
    "res = convert_to_rgb2(res)\n",
    "\n",
    "# Show the image\n",
    "plt.imshow(res)"
   ]
  },
  {
   "cell_type": "code",
   "execution_count": null,
   "metadata": {},
   "outputs": [],
   "source": [
    "torch.save(model.state_dict(), \"checkpoints/model.pt\")"
   ]
  },
  {
   "cell_type": "code",
   "execution_count": null,
   "metadata": {},
   "outputs": [],
   "source": [
    "\n",
    "import torch\n",
    "import torch.nn as nn\n",
    "from model.cringe.unet import ConvBlock, UpBlock\n",
    "\n",
    "# Define a convolutional layer\n",
    "conv = UpBlock(3,3)\n",
    "\n",
    "# Define a transpose convolutional layer\n",
    "transpose_conv = nn.ConvTranspose2d(3, 3, kernel_size=3, stride=3)\n",
    "\n",
    "# Generate some random input data\n",
    "x = torch.randn(1, 3, 10, 10)\n",
    "# Generate some random input data\n",
    "x2 = torch.randn(1, 3, 20, 20)\n",
    "\n",
    "# Apply the convolutional layer to the input data\n",
    "y = conv(x, x2)\n",
    "\n",
    "# Upsample the output of the convolutional layer by a factor of 2\n",
    "z = transpose_conv(y)\n",
    "\n",
    "print(f'Original size: {x.size()}')\n",
    "print(f'Convolutional layer output size: {y.size()}')\n",
    "print(f'Upsampled output size: {z.size()}')"
   ]
  },
  {
   "cell_type": "code",
   "execution_count": 2,
   "metadata": {},
   "outputs": [],
   "source": [
    "from utils import *\n",
    "\n",
    "img = import_image_from_path()\n",
    "img = convert_to_rgb(img)\n",
    "export_image_to_png(img, \"test.png\")"
   ]
  }
 ],
 "metadata": {
  "kernelspec": {
   "display_name": "teeny",
   "language": "python",
   "name": "python3"
  },
  "language_info": {
   "codemirror_mode": {
    "name": "ipython",
    "version": 3
   },
   "file_extension": ".py",
   "mimetype": "text/x-python",
   "name": "python",
   "nbconvert_exporter": "python",
   "pygments_lexer": "ipython3",
   "version": "3.8.15"
  },
  "orig_nbformat": 4,
  "vscode": {
   "interpreter": {
    "hash": "ac91e5a7d41f06b71cc19fdddcc5ca14fed1395cef74a8d616c800da807fd870"
   }
  }
 },
 "nbformat": 4,
 "nbformat_minor": 2
}
